{
 "cells": [
  {
   "cell_type": "markdown",
   "id": "83c313ce",
   "metadata": {},
   "source": [
    "# Movie Recommender System"
   ]
  },
  {
   "cell_type": "markdown",
   "id": "2232800a",
   "metadata": {},
   "source": [
    "### Package import"
   ]
  },
  {
   "cell_type": "code",
   "execution_count": null,
   "id": "2797d1a7",
   "metadata": {},
   "outputs": [],
   "source": [
    "# !pip install pandas\n",
    "import pandas as pd\n",
    "from sklearn.feature_extraction.text import CountVectorizer\n",
    "from sklearn.metrics.pairwise import cosine_similarity\n",
    "import pickle"
   ]
  },
  {
   "cell_type": "markdown",
   "id": "1dbf00d3",
   "metadata": {},
   "source": [
    "### Data Preparation\n",
    "Use Pandas to load and preprocess movie data, including creating a combined 'tag' column from 'overview' and 'genres'."
   ]
  },
  {
   "cell_type": "code",
   "execution_count": 3,
   "id": "ea1b767b",
   "metadata": {},
   "outputs": [],
   "source": [
    "movie_data = pd.read_csv('tmdb_movies_data.csv')\n",
    "movie_data = movie_data[['id', 'original_title', 'overview', 'genres']]\n",
    "movie_data['tag'] = movie_data['overview'] + movie_data['genres']\n",
    "movie_data = movie_data.drop(columns=['overview', 'genres'])"
   ]
  },
  {
   "cell_type": "markdown",
   "id": "dd8fad75",
   "metadata": {},
   "source": [
    "### Feature Extraction\n",
    "`CountVectorizer` is used to convert the text data into a numerical vector, which is later used for similarity computation."
   ]
  },
  {
   "cell_type": "code",
   "execution_count": 89,
   "id": "fc1f3fcb",
   "metadata": {},
   "outputs": [],
   "source": [
    "cv = CountVectorizer(max_features=10866, stop_words='english')"
   ]
  },
  {
   "cell_type": "code",
   "execution_count": 90,
   "id": "0047007f",
   "metadata": {},
   "outputs": [],
   "source": [
    "vector = cv.fit_transform(movie_data['tag'].values.astype('U')).toarray()"
   ]
  },
  {
   "cell_type": "markdown",
   "id": "3a3c8044",
   "metadata": {},
   "source": [
    "### Similarity C"
   ]
  },
  {
   "cell_type": "code",
   "execution_count": 92,
   "id": "da15cd8d",
   "metadata": {},
   "outputs": [],
   "source": [
    "similarity = cosine_similarity(vector)"
   ]
  },
  {
   "cell_type": "code",
   "execution_count": 95,
   "id": "0a533802",
   "metadata": {},
   "outputs": [],
   "source": []
  },
  {
   "cell_type": "code",
   "execution_count": 96,
   "id": "5256baec",
   "metadata": {},
   "outputs": [],
   "source": [
    "pickle.dump(movie_data, open('movie_list.pkl', 'wb'))"
   ]
  },
  {
   "cell_type": "code",
   "execution_count": 97,
   "id": "da113459",
   "metadata": {},
   "outputs": [],
   "source": [
    "pickle.dump(similarity, open('similarity.pkl', 'wb'))"
   ]
  }
 ],
 "metadata": {
  "kernelspec": {
   "display_name": "Python 3 (ipykernel)",
   "language": "python",
   "name": "python3"
  },
  "language_info": {
   "codemirror_mode": {
    "name": "ipython",
    "version": 3
   },
   "file_extension": ".py",
   "mimetype": "text/x-python",
   "name": "python",
   "nbconvert_exporter": "python",
   "pygments_lexer": "ipython3",
   "version": "3.8.3"
  }
 },
 "nbformat": 4,
 "nbformat_minor": 5
}
